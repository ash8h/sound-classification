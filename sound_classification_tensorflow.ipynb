{
 "cells": [
  {
   "cell_type": "code",
   "execution_count": 5,
   "metadata": {
    "collapsed": true
   },
   "outputs": [],
   "source": [
    "import glob\n",
    "import os\n",
    "import librosa, librosa.display\n",
    "import numpy as np\n",
    "import matplotlib.pyplot as plt\n",
    "import tensorflow as tf\n",
    "from matplotlib.pyplot import specgram\n",
    "from sklearn.metrics import precision_recall_fscore_support\n",
    "from datetime import datetime"
   ]
  },
  {
   "cell_type": "code",
   "execution_count": 7,
   "metadata": {},
   "outputs": [
    {
     "name": "stdout",
     "output_type": "stream",
     "text": [
      "CPU times: user 2.21 ms, sys: 5.91 ms, total: 8.11 ms\n",
      "Wall time: 12.2 ms\n",
      "loaded successfully. # of train data=1757, # of test data=1757\n"
     ]
    }
   ],
   "source": [
    "# データ読み込み\n",
    "import urbansound8k_loader as dataset\n",
    "\n",
    "#parent_dir = 'UrbanSound8K/audio/'\n",
    "#tr_features, tr_labels = dataset.load_urbansound8k(parent_dir, ['fold1', 'fold2'])\n",
    "#ts_features, ts_labels = dataset.load_urbansound8k(parent_dir, ['fold3'])\n",
    "\n",
    "%time tr_features, tr_labels, ts_features, ts_labels = dataset.load_from_npy_files()\n",
    "\n",
    "if (len(tr_features) !=  len(tr_labels)):\n",
    "    print('WARN: invalid # of training data. features=' + str(len(tr_features)) + ', labels=' + str(len(tr_labels)))\n",
    "elif (len(ts_features) !=  len(ts_labels)):\n",
    "    print('WARN: invalid # of tast data. features=' + str(len(ts_features)) + ', labels=' + str(len(ts_labels)))\n",
    "elif (len(tr_features) == 0 or len(ts_features) == 0):\n",
    "    print('WARN: no data.')\n",
    "else: \n",
    "    print('loaded successfully. # of train data=' + str(len(tr_features)) + ', # of test data=' + str(len(ts_features)))"
   ]
  },
  {
   "cell_type": "code",
   "execution_count": 8,
   "metadata": {
    "collapsed": true
   },
   "outputs": [],
   "source": [
    "# 定数定義\n",
    "training_epochs = 5000\n",
    "n_dim = tr_features.shape[1]\n",
    "n_classes = 10\n",
    "n_hidden_units_one = 280 \n",
    "n_hidden_units_two = 300\n",
    "sd = 1 / np.sqrt(n_dim)\n",
    "learning_rate = 0.01\n",
    "log_dir = './log'"
   ]
  },
  {
   "cell_type": "code",
   "execution_count": 9,
   "metadata": {},
   "outputs": [],
   "source": [
    "# モデル構築\n",
    "X = tf.placeholder(tf.float32,[None,n_dim])\n",
    "Y = tf.placeholder(tf.float32,[None,n_classes])\n",
    "\n",
    "W_1 = tf.Variable(tf.random_normal([n_dim,n_hidden_units_one], mean = 0, stddev=sd))\n",
    "b_1 = tf.Variable(tf.random_normal([n_hidden_units_one], mean = 0, stddev=sd))\n",
    "h_1 = tf.nn.tanh(tf.matmul(X,W_1) + b_1)\n",
    "\n",
    "\n",
    "W_2 = tf.Variable(tf.random_normal([n_hidden_units_one,n_hidden_units_two], mean = 0, stddev=sd))\n",
    "b_2 = tf.Variable(tf.random_normal([n_hidden_units_two], mean = 0, stddev=sd))\n",
    "h_2 = tf.nn.sigmoid(tf.matmul(h_1,W_2) + b_2)\n",
    "\n",
    "\n",
    "W = tf.Variable(tf.random_normal([n_hidden_units_two,n_classes], mean = 0, stddev=sd))\n",
    "b = tf.Variable(tf.random_normal([n_classes], mean = 0, stddev=sd))\n",
    "y_ = tf.nn.softmax(tf.matmul(h_2,W) + b)\n",
    "\n",
    "init = tf.global_variables_initializer()\n",
    "\n",
    "cost_function = -tf.reduce_sum(Y * tf.log(y_))\n",
    "optimizer = tf.train.GradientDescentOptimizer(learning_rate).minimize(cost_function)\n",
    "\n",
    "correct_prediction = tf.equal(tf.argmax(y_,1), tf.argmax(Y,1))\n",
    "accuracy = tf.reduce_mean(tf.cast(correct_prediction, tf.float32))"
   ]
  },
  {
   "cell_type": "code",
   "execution_count": 11,
   "metadata": {},
   "outputs": [
    {
     "name": "stdout",
     "output_type": "stream",
     "text": [
      "2017/07/02 16:42:57\n",
      "# of data=1757, epoches=5000\n",
      "Test accuracy: 0.114\n",
      "done. 2017/07/02 16:49:17\n"
     ]
    },
    {
     "data": {
      "image/png": "[encoded data removed]",
      "text/plain": [
       "<matplotlib.figure.Figure at 0x116f9b358>"
      ]
     },
     "metadata": {},
     "output_type": "display_data"
    },
    {
     "name": "stdout",
     "output_type": "stream",
     "text": [
      "CPU times: user 1.44 ms, sys: 494 µs, total: 1.93 ms\n",
      "Wall time: 1.81 ms\n",
      "F-Score:0.114\n"
     ]
    }
   ],
   "source": [
    "# 学習、評価\n",
    "print(datetime.now().strftime(\"%Y/%m/%d %H:%M:%S\"))\n",
    "print('# of data=' + str(len(tr_features)) + ', epoches=' + str(training_epochs))\n",
    "cost_history = np.empty(shape=[1],dtype=float)\n",
    "y_true, y_pred = None, None\n",
    "with tf.Session() as sess:\n",
    "    sess.run(init)\n",
    "    for epoch in range(training_epochs):            \n",
    "        _,cost = sess.run([optimizer,cost_function],feed_dict={X:tr_features,Y:tr_labels})\n",
    "        cost_history = np.append(cost_history,cost)\n",
    "    \n",
    "    y_pred = sess.run(tf.argmax(y_,1),feed_dict={X: ts_features})\n",
    "    y_true = sess.run(tf.argmax(ts_labels,1))\n",
    "    print('Test accuracy: ' + str(round(sess.run(accuracy, feed_dict={X: ts_features, Y: ts_labels}) , 3)))\n",
    "    summary_op = tf.summary.merge_all()\n",
    "    summary_writer = tf.summary.FileWriter(log_dir, sess.graph)\n",
    "\n",
    "print('done. ' + datetime.now().strftime(\"%Y/%m/%d %H:%M:%S\"))\n",
    "\n",
    "fig = plt.figure(figsize=(10,8))\n",
    "plt.plot(cost_history)\n",
    "plt.axis([0,training_epochs,0,np.max(cost_history)])\n",
    "plt.show()\n",
    "\n",
    "%time p,r,f,s = precision_recall_fscore_support(y_true, y_pred, average='micro')\n",
    "print(\"F-Score:\" + str(round(f,3)))"
   ]
  },
  {
   "cell_type": "code",
   "execution_count": null,
   "metadata": {
    "collapsed": true
   },
   "outputs": [],
   "source": []
  }
 ],
 "metadata": {
  "kernelspec": {
   "display_name": "Python 3",
   "language": "python",
   "name": "python3"
  },
  "language_info": {
   "codemirror_mode": {
    "name": "ipython",
    "version": 3
   },
   "file_extension": ".py",
   "mimetype": "text/x-python",
   "name": "python",
   "nbconvert_exporter": "python",
   "pygments_lexer": "ipython3",
   "version": "3.6.0"
  }
 },
 "nbformat": 4,
 "nbformat_minor": 2
}
