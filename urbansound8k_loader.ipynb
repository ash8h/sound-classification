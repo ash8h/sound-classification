{
 "cells": [
  {
   "cell_type": "code",
   "execution_count": 1,
   "metadata": {
    "collapsed": true
   },
   "outputs": [],
   "source": [
    "import glob\n",
    "import os\n",
    "import librosa, librosa.display\n",
    "import numpy as np\n",
    "import matplotlib.pyplot as plt\n",
    "import tensorflow as tf\n",
    "from matplotlib.pyplot import specgram\n",
    "from sklearn.metrics import precision_recall_fscore_support\n",
    "from datetime import datetime\n",
    "\n",
    "def extract_feature(file_name):\n",
    "    X, sample_rate = librosa.load(file_name)\n",
    "    stft = np.abs(librosa.stft(X))\n",
    "    mfccs = np.mean(librosa.feature.mfcc(y=X, sr=sample_rate, n_mfcc=40).T,axis=0)  # メル周波数ケプストラム係数（Mel-Frequency Cepstrum Coefficients）\n",
    "    chroma = np.mean(librosa.feature.chroma_stft(S=stft, sr=sample_rate).T,axis=0)  # クロマベクトル(Chroma)\n",
    "    mel = np.mean(librosa.feature.melspectrogram(X, sr=sample_rate).T,axis=0)  # メル周波数ケプストラムの平均値\n",
    "    contrast = np.mean(librosa.feature.spectral_contrast(S=stft, sr=sample_rate).T,axis=0)  # スペクトル-コントラクト(Spectral Contrast)の平均\n",
    "    tonnetz = np.mean(librosa.feature.tonnetz(y=librosa.effects.harmonic(X), sr=sample_rate).T,axis=0)  #  和音に関する特徴量(tonal centroid features)\n",
    "    return mfccs,chroma,mel,contrast,tonnetz\n",
    "\n",
    "def parse_audio_files(parent_dir, sub_dirs, file_ext='*.wav', verbose=0):\n",
    "    features, labels = np.empty((0,193)), np.empty(0)    # 193次元の特徴量配列\n",
    "    for label, sub_dir in enumerate(sub_dirs):\n",
    "        files = glob.glob(os.path.join(parent_dir, sub_dir, file_ext))\n",
    "        for fn in files:\n",
    "            if (verbose):\n",
    "                print('loading: ' + fn)\n",
    "            mfccs, chroma, mel, contrast,tonnetz = extract_feature(fn)\n",
    "            ext_features = np.hstack([mfccs,chroma,mel,contrast,tonnetz])   # hstack: 配列を横方向に結合\n",
    "            features = np.vstack([features,ext_features])\n",
    "            paths = fn.split('/')\n",
    "            labels = np.append(labels, paths[len(paths)-1].split('-')[1])\n",
    "    return np.array(features), np.array(labels, dtype = np.int)\n",
    "\n",
    "def one_hot_encode(labels):  # ラベルをスカラー形式からベクトル形式に変換\n",
    "    n_labels = len(labels)\n",
    "    n_unique_labels = len(np.unique(labels))\n",
    "    one_hot_encode = np.zeros((n_labels,n_unique_labels))\n",
    "    one_hot_encode[np.arange(n_labels), labels] = 1\n",
    "    return one_hot_encode"
   ]
  },
  {
   "cell_type": "code",
   "execution_count": 6,
   "metadata": {
    "collapsed": true
   },
   "outputs": [],
   "source": [
    "def load_urbansound8k(parent_dir, sub_dirs, verbose=0):\n",
    "    file_ext = '*.wav'\n",
    "    features, labels = parse_audio_files(parent_dir, sub_dirs, file_ext, verbose)\n",
    "    labels = one_hot_encode(labels)\n",
    "    return features, labels\n",
    "\n",
    "def load_urbansound8k_train_and_test(parent_dir = 'UrbanSound8K/audio/',\n",
    "                                     tr_sub_dirs = ['fold1', 'fold2'], \n",
    "                                     ts_sub_dirs = ['fold3'],\n",
    "                                     verbose = 0):\n",
    "#    tr_features, tr_labels = load_urbansound8k(parent_dir, tr_sub_dirs, verbose)\n",
    "    tr_features = 0\n",
    "    tr_labels = 0\n",
    "    ts_features, ts_labels = load_urbansound8k(parent_dir, ts_sub_dirs, verbose)\n",
    "    return tr_features, tr_labels, ts_features, ts_labels"
   ]
  },
  {
   "cell_type": "code",
   "execution_count": 7,
   "metadata": {
    "collapsed": true
   },
   "outputs": [],
   "source": [
    "def save_to_npy_files(tr_features, tr_labels, ts_features, ts_labels, prefix=''):\n",
    "#    np.save(prefix + 'tr_features.npy', tr_features)\n",
    "#    np.save(prefix + 'tr_labels.npy', tr_labels)\n",
    "    np.save(prefix + 'ts_features.npy', ts_features)\n",
    "    np.save(prefix + 'ts_labels.npy', ts_labels)"
   ]
  },
  {
   "cell_type": "code",
   "execution_count": 8,
   "metadata": {
    "collapsed": true
   },
   "outputs": [],
   "source": [
    "def load_from_npy_files(prefix = ''):\n",
    "    tr_features = np.load(prefix + 'tr_features.npy')\n",
    "    tr_labels = np.load(prefix + 'tr_labels.npy')\n",
    "    ts_features = np.load(prefix + 'ts_features.npy')\n",
    "    ts_labels = np.load(prefix + 'ts_labels.npy')\n",
    "    return tr_features, tr_labels, ts_features, ts_labels"
   ]
  },
  {
   "cell_type": "code",
   "execution_count": null,
   "metadata": {},
   "outputs": [
    {
     "name": "stdout",
     "output_type": "stream",
     "text": [
      "loading urbansound8k dataset.\n",
      "loading: UrbanSound8K/audio/fold8/103076-3-0-0.wav\n",
      "loading: UrbanSound8K/audio/fold8/103076-3-1-0.wav\n",
      "loading: UrbanSound8K/audio/fold8/103076-3-2-0.wav\n",
      "loading: UrbanSound8K/audio/fold8/106905-5-0-0.wav\n",
      "loading: UrbanSound8K/audio/fold8/106905-5-0-1.wav\n",
      "loading: UrbanSound8K/audio/fold8/106905-5-0-2.wav\n",
      "loading: UrbanSound8K/audio/fold8/107090-1-0-0.wav\n",
      "loading: UrbanSound8K/audio/fold8/107090-1-1-0.wav\n",
      "loading: UrbanSound8K/audio/fold8/107190-3-0-0.wav\n",
      "loading: UrbanSound8K/audio/fold8/110134-3-0-0.wav\n",
      "loading: UrbanSound8K/audio/fold8/110688-3-0-11.wav\n",
      "loading: UrbanSound8K/audio/fold8/110688-3-0-17.wav\n",
      "loading: UrbanSound8K/audio/fold8/110688-3-0-2.wav\n",
      "loading: UrbanSound8K/audio/fold8/110688-3-0-32.wav\n",
      "loading: UrbanSound8K/audio/fold8/113202-5-0-0.wav\n",
      "loading: UrbanSound8K/audio/fold8/113202-5-0-1.wav\n",
      "loading: UrbanSound8K/audio/fold8/113202-5-0-10.wav\n",
      "loading: UrbanSound8K/audio/fold8/113202-5-0-11.wav\n",
      "loading: UrbanSound8K/audio/fold8/113202-5-0-12.wav\n",
      "loading: UrbanSound8K/audio/fold8/113202-5-0-13.wav\n",
      "loading: UrbanSound8K/audio/fold8/113202-5-0-14.wav\n",
      "loading: UrbanSound8K/audio/fold8/113202-5-0-15.wav\n",
      "loading: UrbanSound8K/audio/fold8/113202-5-0-16.wav\n",
      "loading: UrbanSound8K/audio/fold8/113202-5-0-17.wav\n",
      "loading: UrbanSound8K/audio/fold8/113202-5-0-18.wav\n",
      "loading: UrbanSound8K/audio/fold8/113202-5-0-19.wav\n",
      "loading: UrbanSound8K/audio/fold8/113202-5-0-2.wav\n",
      "loading: UrbanSound8K/audio/fold8/113202-5-0-20.wav\n",
      "loading: UrbanSound8K/audio/fold8/113202-5-0-21.wav\n",
      "loading: UrbanSound8K/audio/fold8/113202-5-0-22.wav\n",
      "loading: UrbanSound8K/audio/fold8/113202-5-0-23.wav\n",
      "loading: UrbanSound8K/audio/fold8/113202-5-0-24.wav\n",
      "loading: UrbanSound8K/audio/fold8/113202-5-0-25.wav\n",
      "loading: UrbanSound8K/audio/fold8/113202-5-0-26.wav\n",
      "loading: UrbanSound8K/audio/fold8/113202-5-0-27.wav\n",
      "loading: UrbanSound8K/audio/fold8/113202-5-0-28.wav\n",
      "loading: UrbanSound8K/audio/fold8/113202-5-0-3.wav\n",
      "loading: UrbanSound8K/audio/fold8/113202-5-0-4.wav\n",
      "loading: UrbanSound8K/audio/fold8/113202-5-0-5.wav\n",
      "loading: UrbanSound8K/audio/fold8/113202-5-0-6.wav\n",
      "loading: UrbanSound8K/audio/fold8/113202-5-0-7.wav\n",
      "loading: UrbanSound8K/audio/fold8/113202-5-0-8.wav\n",
      "loading: UrbanSound8K/audio/fold8/113202-5-0-9.wav\n",
      "loading: UrbanSound8K/audio/fold8/113203-5-0-0.wav\n",
      "loading: UrbanSound8K/audio/fold8/113203-5-0-1.wav\n",
      "loading: UrbanSound8K/audio/fold8/113203-5-0-2.wav\n",
      "loading: UrbanSound8K/audio/fold8/113203-5-0-3.wav\n",
      "loading: UrbanSound8K/audio/fold8/113203-5-0-4.wav\n",
      "loading: UrbanSound8K/audio/fold8/113203-5-0-5.wav\n",
      "loading: UrbanSound8K/audio/fold8/113203-5-0-6.wav\n"
     ]
    }
   ],
   "source": [
    "if __name__ == '__main__':\n",
    "    parent_dir = 'UrbanSound8K/audio/'\n",
    "    tr_subdirs = ['fold1','fold2', 'fold3', 'fold4', 'fold5', 'fold6', 'fold7']\n",
    "    ts_subdirs =['fold8', 'fold9', 'fold10']\n",
    "    \n",
    "    print('loading urbansound8k dataset.')    \n",
    "    %time tr_features, tr_labels, ts_features, ts_labels = load_urbansound8k_train_and_test(parent_dir,  tr_subdirs, ts_subdirs, 1)\n",
    "    save_to_npy_files(tr_features, tr_labels, ts_features, ts_labels, prefix='all_')\n"
   ]
  },
  {
   "cell_type": "code",
   "execution_count": null,
   "metadata": {
    "collapsed": true
   },
   "outputs": [],
   "source": []
  }
 ],
 "metadata": {
  "kernelspec": {
   "display_name": "Python 3",
   "language": "python",
   "name": "python3"
  },
  "language_info": {
   "codemirror_mode": {
    "name": "ipython",
    "version": 3
   },
   "file_extension": ".py",
   "mimetype": "text/x-python",
   "name": "python",
   "nbconvert_exporter": "python",
   "pygments_lexer": "ipython3",
   "version": "3.6.0"
  }
 },
 "nbformat": 4,
 "nbformat_minor": 2
}
